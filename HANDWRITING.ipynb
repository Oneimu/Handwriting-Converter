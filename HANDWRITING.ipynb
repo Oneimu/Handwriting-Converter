{
 "cells": [
  {
   "cell_type": "markdown",
   "metadata": {},
   "source": [
    "# Converting Handwritten text into pdf and doc file\n",
    "# Analyts the text to produce the 10 most repeated words\n",
    "# use NLP to extract the summer of the text"
   ]
  },
  {
   "cell_type": "code",
   "execution_count": 1,
   "metadata": {},
   "outputs": [],
   "source": [
    "# use google-vision to read the scan image\n",
    "# save the file to pdf and doc file\n",
    "# save the same file at that time to a string\n",
    "# run the NLP on the text and find the summary\n",
    "# produce the 10 most repeating words\n",
    "# made a data fram contain the file number, the summary, and the 10 most repeated world"
   ]
  },
  {
   "cell_type": "markdown",
   "metadata": {},
   "source": [
    "The purpose of the research is to made hand written text easy read; to make handwritten to easy to convert to pdf or doc file for easy submission for students.\n",
    "Also, the NLP done on the handwritten text is to prodive a quick summary on what ever they user is about to read. \n",
    "Instead of using a human reviewer to go read over the text, computers can do that in miliseconds and provide a summary"
   ]
  },
  {
   "cell_type": "markdown",
   "metadata": {},
   "source": [
    "The aim of this research is to produce and easy and quick way for people who love writting this down to convert their data into \n",
    "into required dociments types for their work.\n",
    "Also, the project aims at producing an easy way for student to get the context and summary of what ever handwritten note they want to read."
   ]
  },
  {
   "cell_type": "code",
   "execution_count": 86,
   "metadata": {},
   "outputs": [],
   "source": [
    "# Importations of the need librarys\n",
    "import cv2\n",
    "import os, io\n",
    "from google.cloud import vision\n",
    "from google import type\n",
    "import pandas as pd\n",
    "\n",
    "from fpdf import FPDF\n",
    "from docx import Document\n",
    "import nltk\n"
   ]
  },
  {
   "cell_type": "code",
   "execution_count": 155,
   "metadata": {},
   "outputs": [
    {
     "name": "stdout",
     "output_type": "stream",
     "text": [
      "Collecting docx2pdf\n",
      "  Downloading docx2pdf-0.1.7-py3-none-any.whl (6.6 kB)\n",
      "Requirement already satisfied: pywin32<228,>=227; sys_platform == \"win32\" in c:\\users\\lucky abolorunke\\anaconda3\\lib\\site-packages (from docx2pdf) (227)\n",
      "Requirement already satisfied: tqdm<5.0.0,>=4.41.0 in c:\\users\\lucky abolorunke\\anaconda3\\lib\\site-packages (from docx2pdf) (4.50.2)\n",
      "Installing collected packages: docx2pdf\n",
      "Successfully installed docx2pdf-0.1.7\n"
     ]
    },
    {
     "name": "stderr",
     "output_type": "stream",
     "text": [
      "Error processing line 1 of C:\\Users\\Lucky Abolorunke\\Anaconda3\\lib\\site-packages\\vision-1.0.0-py3.8-nspkg.pth:\n",
      "\n",
      "  Traceback (most recent call last):\n",
      "    File \"C:\\Users\\Lucky Abolorunke\\Anaconda3\\lib\\site.py\", line 169, in addpackage\n",
      "      exec(line)\n",
      "    File \"<string>\", line 1, in <module>\n",
      "    File \"<frozen importlib._bootstrap>\", line 553, in module_from_spec\n",
      "  AttributeError: 'NoneType' object has no attribute 'loader'\n",
      "\n",
      "Remainder of file ignored\n"
     ]
    }
   ],
   "source": [
    "import spacy\n",
    "from spacy.lang.en.stop_words import STOP_WORDS\n",
    "from string import punctuation\n",
    "from heapq import nlargest\n",
    "!pip install docx2pdf\n",
    "from docx2pdf import convert"
   ]
  },
  {
   "cell_type": "code",
   "execution_count": 88,
   "metadata": {},
   "outputs": [],
   "source": [
    "# google cloud vision\n",
    "os.environ['GOOGLE_APPLICATION_CREDENTIALS'] = r\"C:\\Users\\Lucky Abolorunke\\Downloads\\ServiceAccountToken.json\""
   ]
  },
  {
   "cell_type": "code",
   "execution_count": null,
   "metadata": {},
   "outputs": [],
   "source": []
  },
  {
   "cell_type": "code",
   "execution_count": 89,
   "metadata": {},
   "outputs": [],
   "source": [
    "# to extract the images from the pictures \n",
    "# this function takes in a picture and returns the image, bu this time the color has be removed, \n",
    "# and everything would be in black and white\n",
    "\n",
    "def ReadImages(file_name):\n",
    "    \n",
    "    with io.open(file_name, 'rb') as imgx:\n",
    "        content = imgx.read()\n",
    "    image = vision.Image(content=content)\n",
    "\n",
    "    return image "
   ]
  },
  {
   "cell_type": "code",
   "execution_count": 96,
   "metadata": {},
   "outputs": [],
   "source": [
    "# the function ImageText takes in the directory of a picture and returns a text in the image in form a string\n",
    "\n",
    "def ImageText(file_name):\n",
    "\n",
    "    client = vision.ImageAnnotatorClient()\n",
    "\n",
    "    img = ReadImages(file_name)\n",
    "    response = client.document_text_detection(image=img)\n",
    "    doc = response.full_text_annotation.text\n",
    "    doc = doc.replace('\\n', ' ')\n",
    "    return doc     "
   ]
  },
  {
   "cell_type": "code",
   "execution_count": 99,
   "metadata": {},
   "outputs": [
    {
     "name": "stdout",
     "output_type": "stream",
     "text": [
      "Ad Creating De U commandment now comfossim a new Commission new consecration new contribution a new compensation w commitment without courage you can't do what God want you 38 SUBTOPIS: FOMPLING COMPREHENSIONE OF OUR TASK OUTSIDED HOMPLETE CONSECRATION OF OUR TEMPLE contourageous COMMITMENT 2 fils 2 summary Onez, Sono Compling eumprehension of our task-outside the temples Cimonclés aqus_9 luke lovs 2.7, 30,331 Kings 4u Luce aodem? nos gust prowbs aqui,t2 Buonany tour guest + Complete consecration of our temple us 29034 Actio + proverbs US 20 2 lguses nots 1905.25 10 Chronides 2ows 20,21 James 54519 EHT chronido 299 Matthew Busig mark Il con- 5 proverbs 34 Sconosis agus 20 'malachi gusi i corinthians Lost15 I Corronícies isvs29 nitilans puss -12 MS41 Lulce gus 38 agus 9. \n"
     ]
    }
   ],
   "source": [
    "# test the picture reader\n",
    "f_n =r\"C:\\Users\\Lucky Abolorunke\\Desktop\\2.JPG\"\n",
    "f = ImageText(f_n)\n",
    "print(f)"
   ]
  },
  {
   "cell_type": "markdown",
   "metadata": {},
   "source": [
    "The following lines of code is use to summarize the tex and fine the 10 most repeated words"
   ]
  },
  {
   "cell_type": "code",
   "execution_count": null,
   "metadata": {},
   "outputs": [],
   "source": []
  },
  {
   "cell_type": "code",
   "execution_count": 33,
   "metadata": {},
   "outputs": [],
   "source": [
    "def wordCount(text):\n",
    "    from string import punctuation\n",
    "    word_count = {}\n",
    "    stopwords = list(STOP_WORDS)\n",
    "    nlp = spacy.load('en_core_web_sm')\n",
    "    doc = nlp(text)\n",
    "#     tokens = [token.text for token in doc]\n",
    "    \n",
    "    #puntuations\n",
    "    punctuation = punctuation + \"\\n\"\n",
    "    for word in doc:\n",
    "        if word.text.lower() not in stopwords:\n",
    "            if word.text.lower() not in punctuation:\n",
    "                if word.text not in word_count:\n",
    "                    word_count[word.text] = 1\n",
    "                else:\n",
    "                    word_count[word.text] += 1\n",
    "    return word_count        \n",
    "    \n",
    "    "
   ]
  },
  {
   "cell_type": "code",
   "execution_count": 56,
   "metadata": {},
   "outputs": [],
   "source": [
    "def tenMostCommon(text):\n",
    "    word_count = wordCount(text)\n",
    "    # create a sorted list of the items in the dicitionary\n",
    "    numbers = sorted(word_count.values())\n",
    "    result = []\n",
    "    \n",
    "    count = 0\n",
    "    index = len(numbers)-1\n",
    "    while count < 10:\n",
    "        for key in word_count.keys():\n",
    "            if word_count[key] == numbers[index] and count < 10:\n",
    "                result.append(key + \": \"+str(numbers[index]))\n",
    "                index -= 1\n",
    "                count += 1\n",
    "        \n",
    "    return result   \n"
   ]
  },
  {
   "cell_type": "code",
   "execution_count": 109,
   "metadata": {},
   "outputs": [],
   "source": [
    "# summarize\n",
    "def Summarize(text):\n",
    "    nlp = spacy.load('en_core_web_sm')\n",
    "    doc = nlp(text)\n",
    "    word_count = wordCount(text)\n",
    "    max_frequency = max(word_count.values())    \n",
    "    for word in word_count.keys():\n",
    "        \n",
    "        word_count[word] = word_count[word]/max_frequency\n",
    "    sen_tokens = [sen for sen in doc.sents]\n",
    "    \n",
    "    # map the frequency of every sentence to the sentence\n",
    "    sentence_scores = {}\n",
    "    for sen in sen_tokens:\n",
    "        for word in sen:\n",
    "            if word.text.lower() in word_count.keys():\n",
    "                if word.text.lower() not in sentence_scores.keys():\n",
    "                    sentence_scores[sen] = word_count[word.text.lower()]\n",
    "                else:\n",
    "                    sentence_scores[sen] += word_count[word.text.lower()]\n",
    "    select_length = int(len(sentence_scores)*0.3)\n",
    "\n",
    "    summary = nlargest(select_length, sentence_scores, key=sentence_scores.get)\n",
    "    \n",
    "    sumx = [word.text for word in summary]\n",
    "    final_summary = \" \".join(sumx)                \n",
    "    #return the summary\n",
    "    return final_summary\n",
    "\n",
    " "
   ]
  },
  {
   "cell_type": "code",
   "execution_count": null,
   "metadata": {},
   "outputs": [],
   "source": []
  },
  {
   "cell_type": "code",
   "execution_count": null,
   "metadata": {},
   "outputs": [],
   "source": []
  },
  {
   "cell_type": "code",
   "execution_count": 121,
   "metadata": {},
   "outputs": [],
   "source": [
    "def nameFile(string):\n",
    "    name = \"\"\n",
    "    word = \"\"\n",
    "    count = 0\n",
    "    \n",
    "    for char in string:\n",
    "        if char == \" \" and count < 4:\n",
    "            count += 1\n",
    "            name += word\n",
    "            word = \"\"\n",
    "            if count <= 3:\n",
    "                name += \" \"\n",
    "        else:\n",
    "            word += char\n",
    "    return name        "
   ]
  },
  {
   "cell_type": "code",
   "execution_count": 165,
   "metadata": {},
   "outputs": [],
   "source": [
    "# write to pdf\n",
    "# the function take in two string type(text, summary), a list of strings, and then save a doc file to the PC\n",
    "def writePDF(text, most_words, summary):\n",
    "#     use the covert class from docxpdf module to convert a created doc file to pdf\n",
    "    name = nameFile(summary)\n",
    "    output = r\"C:\\Users\\Lucky Abolorunke\\Desktop\\handwriting\\{}.pdf\".format(name)\n",
    "\n",
    "    convert(writeDocument(text, most_words, summary), output)\n"
   ]
  },
  {
   "cell_type": "code",
   "execution_count": 177,
   "metadata": {},
   "outputs": [],
   "source": [
    "# to write the document to file\n",
    "# the function take in two string type(text, summary), a list of strings, and then save a doc file to the PC\n",
    "\n",
    "def writeDocument(text, most_words, summary):\n",
    "    document = Document()\n",
    "    # this sets the converted handwritten note to the doc\n",
    "    document.add_paragraph(text)\n",
    "    \n",
    "    # set a header that indicates the time most repeated words\n",
    "    # level two size of header\n",
    "    document.add_heading(\"Ten most repeated words\", 2)\n",
    "    document.add_paragraph(\", \".join(most_words))\n",
    "    \n",
    "    # add another hearder for the summary\n",
    "    document.add_heading(\"Summary of the note\", 2)\n",
    "    document.add_paragraph(summary)\n",
    "    \n",
    "    # use the first 4 words to save he file\n",
    "    name = nameFile(summary)\n",
    "    #save file to directory\n",
    "    directory = r\"C:\\Users\\Lucky Abolorunke\\Desktop\\handwriting\\{}.docx\".format(name)\n",
    "    document.save(directory)\n",
    "    return directory\n"
   ]
  },
  {
   "cell_type": "code",
   "execution_count": 178,
   "metadata": {},
   "outputs": [],
   "source": [
    "def typeDoc():\n",
    "    num = int(input(\"1.docx\\n2.pdf\\nEnter the number: \"))\n",
    "    return num\n",
    "    "
   ]
  },
  {
   "cell_type": "code",
   "execution_count": 179,
   "metadata": {},
   "outputs": [],
   "source": [
    "\n",
    " def convertFile(file_name):\n",
    "    text = ImageText(file_name)\n",
    "    common_words = tenMostCommon(text)\n",
    "    summary = Summarize(text)\n",
    "    \n",
    "    num = typeDoc()\n",
    "    if num == 1:\n",
    "        writeDocument(text, common_words, summary)\n",
    "    else:\n",
    "        writePDF(text, common_words, summary)\n",
    "    print(\"Done!!!\")\n",
    "    "
   ]
  },
  {
   "cell_type": "code",
   "execution_count": null,
   "metadata": {},
   "outputs": [],
   "source": []
  },
  {
   "cell_type": "code",
   "execution_count": 181,
   "metadata": {},
   "outputs": [
    {
     "name": "stdout",
     "output_type": "stream",
     "text": [
      "\n",
      "1.docx\n",
      "2.pdf\n",
      "Enter the number: 1\n",
      "Done!!!\n",
      "1.docx\n",
      "2.pdf\n",
      "Enter the number: 1\n",
      "Done!!!\n",
      "1.docx\n",
      "2.pdf\n",
      "Enter the number: 1\n",
      "Done!!!\n",
      "1.docx\n",
      "2.pdf\n",
      "Enter the number: 1\n",
      "Done!!!\n",
      "1.docx\n",
      "2.pdf\n",
      "Enter the number: 1\n",
      "Done!!!\n",
      "1.docx\n",
      "2.pdf\n",
      "Enter the number: 1\n",
      "Done!!!\n",
      "1.docx\n",
      "2.pdf\n",
      "Enter the number: 1\n",
      "Done!!!\n",
      "1.docx\n",
      "2.pdf\n",
      "Enter the number: 1\n",
      "Done!!!\n",
      "1.docx\n",
      "2.pdf\n",
      "Enter the number: 1\n",
      "Done!!!\n",
      "1.docx\n",
      "2.pdf\n",
      "Enter the number: 1\n",
      "Done!!!\n",
      "1.docx\n",
      "2.pdf\n",
      "Enter the number: 1\n",
      "Done!!!\n",
      "1.docx\n",
      "2.pdf\n",
      "Enter the number: 1\n",
      "Done!!!\n",
      "1.docx\n",
      "2.pdf\n",
      "Enter the number: 1\n",
      "Done!!!\n",
      "1.docx\n",
      "2.pdf\n",
      "Enter the number: 1\n",
      "Done!!!\n",
      "1.docx\n",
      "2.pdf\n",
      "Enter the number: 1\n",
      "Done!!!\n",
      "1.docx\n",
      "2.pdf\n",
      "Enter the number: 1\n",
      "Done!!!\n",
      "1.docx\n",
      "2.pdf\n",
      "Enter the number: 1\n",
      "Done!!!\n",
      "1.docx\n",
      "2.pdf\n",
      "Enter the number: 1\n",
      "Done!!!\n",
      "1.docx\n",
      "2.pdf\n",
      "Enter the number: 1\n",
      "Done!!!\n",
      "1.docx\n",
      "2.pdf\n",
      "Enter the number: 1\n",
      "Done!!!\n",
      "1.docx\n",
      "2.pdf\n",
      "Enter the number: 1\n"
     ]
    },
    {
     "ename": "OSError",
     "evalue": "[Errno 22] Invalid argument: 'C:\\\\Users\\\\Lucky Abolorunke\\\\Desktop\\\\handwriting\\\\* Virtues of the.docx'",
     "output_type": "error",
     "traceback": [
      "\u001b[1;31m---------------------------------------------------------------------------\u001b[0m",
      "\u001b[1;31mOSError\u001b[0m                                   Traceback (most recent call last)",
      "\u001b[1;32m<ipython-input-181-bb7a7602584a>\u001b[0m in \u001b[0;36m<module>\u001b[1;34m\u001b[0m\n\u001b[0;32m      1\u001b[0m \u001b[1;32mfor\u001b[0m \u001b[0mindex\u001b[0m \u001b[1;32min\u001b[0m \u001b[0mrange\u001b[0m\u001b[1;33m(\u001b[0m\u001b[1;36m1\u001b[0m\u001b[1;33m,\u001b[0m\u001b[1;36m26\u001b[0m\u001b[1;33m)\u001b[0m\u001b[1;33m:\u001b[0m\u001b[1;33m\u001b[0m\u001b[1;33m\u001b[0m\u001b[0m\n\u001b[0;32m      2\u001b[0m     \u001b[0mdirectory\u001b[0m \u001b[1;33m=\u001b[0m \u001b[1;34mr\"C:\\Users\\Lucky Abolorunke\\Desktop\\handwriting\\photos\\{}.jpg\"\u001b[0m\u001b[1;33m.\u001b[0m\u001b[0mformat\u001b[0m\u001b[1;33m(\u001b[0m\u001b[0mindex\u001b[0m\u001b[1;33m)\u001b[0m\u001b[1;33m\u001b[0m\u001b[1;33m\u001b[0m\u001b[0m\n\u001b[1;32m----> 3\u001b[1;33m     \u001b[0mconvertFile\u001b[0m\u001b[1;33m(\u001b[0m\u001b[0mdirectory\u001b[0m\u001b[1;33m)\u001b[0m\u001b[1;33m\u001b[0m\u001b[1;33m\u001b[0m\u001b[0m\n\u001b[0m",
      "\u001b[1;32m<ipython-input-179-f9f4194c1bb4>\u001b[0m in \u001b[0;36mconvertFile\u001b[1;34m(file_name)\u001b[0m\n\u001b[0;32m      6\u001b[0m    \u001b[0mnum\u001b[0m \u001b[1;33m=\u001b[0m \u001b[0mtypeDoc\u001b[0m\u001b[1;33m(\u001b[0m\u001b[1;33m)\u001b[0m\u001b[1;33m\u001b[0m\u001b[1;33m\u001b[0m\u001b[0m\n\u001b[0;32m      7\u001b[0m    \u001b[1;32mif\u001b[0m \u001b[0mnum\u001b[0m \u001b[1;33m==\u001b[0m \u001b[1;36m1\u001b[0m\u001b[1;33m:\u001b[0m\u001b[1;33m\u001b[0m\u001b[1;33m\u001b[0m\u001b[0m\n\u001b[1;32m----> 8\u001b[1;33m        \u001b[0mwriteDocument\u001b[0m\u001b[1;33m(\u001b[0m\u001b[0mtext\u001b[0m\u001b[1;33m,\u001b[0m \u001b[0mcommon_words\u001b[0m\u001b[1;33m,\u001b[0m \u001b[0msummary\u001b[0m\u001b[1;33m)\u001b[0m\u001b[1;33m\u001b[0m\u001b[1;33m\u001b[0m\u001b[0m\n\u001b[0m\u001b[0;32m      9\u001b[0m    \u001b[1;32melse\u001b[0m\u001b[1;33m:\u001b[0m\u001b[1;33m\u001b[0m\u001b[1;33m\u001b[0m\u001b[0m\n\u001b[0;32m     10\u001b[0m        \u001b[0mwritePDF\u001b[0m\u001b[1;33m(\u001b[0m\u001b[0mtext\u001b[0m\u001b[1;33m,\u001b[0m \u001b[0mcommon_words\u001b[0m\u001b[1;33m,\u001b[0m \u001b[0msummary\u001b[0m\u001b[1;33m)\u001b[0m\u001b[1;33m\u001b[0m\u001b[1;33m\u001b[0m\u001b[0m\n",
      "\u001b[1;32m<ipython-input-177-97344019da5a>\u001b[0m in \u001b[0;36mwriteDocument\u001b[1;34m(text, most_words, summary)\u001b[0m\n\u001b[0;32m     20\u001b[0m     \u001b[1;31m#save file to directory\u001b[0m\u001b[1;33m\u001b[0m\u001b[1;33m\u001b[0m\u001b[1;33m\u001b[0m\u001b[0m\n\u001b[0;32m     21\u001b[0m     \u001b[0mdirectory\u001b[0m \u001b[1;33m=\u001b[0m \u001b[1;34mr\"C:\\Users\\Lucky Abolorunke\\Desktop\\handwriting\\{}.docx\"\u001b[0m\u001b[1;33m.\u001b[0m\u001b[0mformat\u001b[0m\u001b[1;33m(\u001b[0m\u001b[0mname\u001b[0m\u001b[1;33m)\u001b[0m\u001b[1;33m\u001b[0m\u001b[1;33m\u001b[0m\u001b[0m\n\u001b[1;32m---> 22\u001b[1;33m     \u001b[0mdocument\u001b[0m\u001b[1;33m.\u001b[0m\u001b[0msave\u001b[0m\u001b[1;33m(\u001b[0m\u001b[0mdirectory\u001b[0m\u001b[1;33m)\u001b[0m\u001b[1;33m\u001b[0m\u001b[1;33m\u001b[0m\u001b[0m\n\u001b[0m\u001b[0;32m     23\u001b[0m     \u001b[1;32mreturn\u001b[0m \u001b[0mdirectory\u001b[0m\u001b[1;33m\u001b[0m\u001b[1;33m\u001b[0m\u001b[0m\n",
      "\u001b[1;32m~\\Anaconda3\\lib\\site-packages\\docx\\document.py\u001b[0m in \u001b[0;36msave\u001b[1;34m(self, path_or_stream)\u001b[0m\n\u001b[0;32m    133\u001b[0m         \u001b[0ma\u001b[0m \u001b[0mfilesystem\u001b[0m \u001b[0mlocation\u001b[0m \u001b[1;33m(\u001b[0m\u001b[0ma\u001b[0m \u001b[0mstring\u001b[0m\u001b[1;33m)\u001b[0m \u001b[1;32mor\u001b[0m \u001b[0ma\u001b[0m \u001b[0mfile\u001b[0m\u001b[1;33m-\u001b[0m\u001b[0mlike\u001b[0m \u001b[0mobject\u001b[0m\u001b[1;33m.\u001b[0m\u001b[1;33m\u001b[0m\u001b[1;33m\u001b[0m\u001b[0m\n\u001b[0;32m    134\u001b[0m         \"\"\"\n\u001b[1;32m--> 135\u001b[1;33m         \u001b[0mself\u001b[0m\u001b[1;33m.\u001b[0m\u001b[0m_part\u001b[0m\u001b[1;33m.\u001b[0m\u001b[0msave\u001b[0m\u001b[1;33m(\u001b[0m\u001b[0mpath_or_stream\u001b[0m\u001b[1;33m)\u001b[0m\u001b[1;33m\u001b[0m\u001b[1;33m\u001b[0m\u001b[0m\n\u001b[0m\u001b[0;32m    136\u001b[0m \u001b[1;33m\u001b[0m\u001b[0m\n\u001b[0;32m    137\u001b[0m     \u001b[1;33m@\u001b[0m\u001b[0mproperty\u001b[0m\u001b[1;33m\u001b[0m\u001b[1;33m\u001b[0m\u001b[0m\n",
      "\u001b[1;32m~\\Anaconda3\\lib\\site-packages\\docx\\parts\\document.py\u001b[0m in \u001b[0;36msave\u001b[1;34m(self, path_or_stream)\u001b[0m\n\u001b[0;32m    109\u001b[0m         \u001b[0ma\u001b[0m \u001b[0mfilesystem\u001b[0m \u001b[0mlocation\u001b[0m \u001b[1;33m(\u001b[0m\u001b[0ma\u001b[0m \u001b[0mstring\u001b[0m\u001b[1;33m)\u001b[0m \u001b[1;32mor\u001b[0m \u001b[0ma\u001b[0m \u001b[0mfile\u001b[0m\u001b[1;33m-\u001b[0m\u001b[0mlike\u001b[0m \u001b[0mobject\u001b[0m\u001b[1;33m.\u001b[0m\u001b[1;33m\u001b[0m\u001b[1;33m\u001b[0m\u001b[0m\n\u001b[0;32m    110\u001b[0m         \"\"\"\n\u001b[1;32m--> 111\u001b[1;33m         \u001b[0mself\u001b[0m\u001b[1;33m.\u001b[0m\u001b[0mpackage\u001b[0m\u001b[1;33m.\u001b[0m\u001b[0msave\u001b[0m\u001b[1;33m(\u001b[0m\u001b[0mpath_or_stream\u001b[0m\u001b[1;33m)\u001b[0m\u001b[1;33m\u001b[0m\u001b[1;33m\u001b[0m\u001b[0m\n\u001b[0m\u001b[0;32m    112\u001b[0m \u001b[1;33m\u001b[0m\u001b[0m\n\u001b[0;32m    113\u001b[0m     \u001b[1;33m@\u001b[0m\u001b[0mproperty\u001b[0m\u001b[1;33m\u001b[0m\u001b[1;33m\u001b[0m\u001b[0m\n",
      "\u001b[1;32m~\\Anaconda3\\lib\\site-packages\\docx\\opc\\package.py\u001b[0m in \u001b[0;36msave\u001b[1;34m(self, pkg_file)\u001b[0m\n\u001b[0;32m    170\u001b[0m         \u001b[1;32mfor\u001b[0m \u001b[0mpart\u001b[0m \u001b[1;32min\u001b[0m \u001b[0mself\u001b[0m\u001b[1;33m.\u001b[0m\u001b[0mparts\u001b[0m\u001b[1;33m:\u001b[0m\u001b[1;33m\u001b[0m\u001b[1;33m\u001b[0m\u001b[0m\n\u001b[0;32m    171\u001b[0m             \u001b[0mpart\u001b[0m\u001b[1;33m.\u001b[0m\u001b[0mbefore_marshal\u001b[0m\u001b[1;33m(\u001b[0m\u001b[1;33m)\u001b[0m\u001b[1;33m\u001b[0m\u001b[1;33m\u001b[0m\u001b[0m\n\u001b[1;32m--> 172\u001b[1;33m         \u001b[0mPackageWriter\u001b[0m\u001b[1;33m.\u001b[0m\u001b[0mwrite\u001b[0m\u001b[1;33m(\u001b[0m\u001b[0mpkg_file\u001b[0m\u001b[1;33m,\u001b[0m \u001b[0mself\u001b[0m\u001b[1;33m.\u001b[0m\u001b[0mrels\u001b[0m\u001b[1;33m,\u001b[0m \u001b[0mself\u001b[0m\u001b[1;33m.\u001b[0m\u001b[0mparts\u001b[0m\u001b[1;33m)\u001b[0m\u001b[1;33m\u001b[0m\u001b[1;33m\u001b[0m\u001b[0m\n\u001b[0m\u001b[0;32m    173\u001b[0m \u001b[1;33m\u001b[0m\u001b[0m\n\u001b[0;32m    174\u001b[0m     \u001b[1;33m@\u001b[0m\u001b[0mproperty\u001b[0m\u001b[1;33m\u001b[0m\u001b[1;33m\u001b[0m\u001b[0m\n",
      "\u001b[1;32m~\\Anaconda3\\lib\\site-packages\\docx\\opc\\pkgwriter.py\u001b[0m in \u001b[0;36mwrite\u001b[1;34m(pkg_file, pkg_rels, parts)\u001b[0m\n\u001b[0;32m     30\u001b[0m         \u001b[0mcontent\u001b[0m \u001b[0mtypes\u001b[0m \u001b[0mof\u001b[0m \u001b[0mthe\u001b[0m \u001b[0mparts\u001b[0m\u001b[1;33m.\u001b[0m\u001b[1;33m\u001b[0m\u001b[1;33m\u001b[0m\u001b[0m\n\u001b[0;32m     31\u001b[0m         \"\"\"\n\u001b[1;32m---> 32\u001b[1;33m         \u001b[0mphys_writer\u001b[0m \u001b[1;33m=\u001b[0m \u001b[0mPhysPkgWriter\u001b[0m\u001b[1;33m(\u001b[0m\u001b[0mpkg_file\u001b[0m\u001b[1;33m)\u001b[0m\u001b[1;33m\u001b[0m\u001b[1;33m\u001b[0m\u001b[0m\n\u001b[0m\u001b[0;32m     33\u001b[0m         \u001b[0mPackageWriter\u001b[0m\u001b[1;33m.\u001b[0m\u001b[0m_write_content_types_stream\u001b[0m\u001b[1;33m(\u001b[0m\u001b[0mphys_writer\u001b[0m\u001b[1;33m,\u001b[0m \u001b[0mparts\u001b[0m\u001b[1;33m)\u001b[0m\u001b[1;33m\u001b[0m\u001b[1;33m\u001b[0m\u001b[0m\n\u001b[0;32m     34\u001b[0m         \u001b[0mPackageWriter\u001b[0m\u001b[1;33m.\u001b[0m\u001b[0m_write_pkg_rels\u001b[0m\u001b[1;33m(\u001b[0m\u001b[0mphys_writer\u001b[0m\u001b[1;33m,\u001b[0m \u001b[0mpkg_rels\u001b[0m\u001b[1;33m)\u001b[0m\u001b[1;33m\u001b[0m\u001b[1;33m\u001b[0m\u001b[0m\n",
      "\u001b[1;32m~\\Anaconda3\\lib\\site-packages\\docx\\opc\\phys_pkg.py\u001b[0m in \u001b[0;36m__init__\u001b[1;34m(self, pkg_file)\u001b[0m\n\u001b[0;32m    139\u001b[0m     \u001b[1;32mdef\u001b[0m \u001b[0m__init__\u001b[0m\u001b[1;33m(\u001b[0m\u001b[0mself\u001b[0m\u001b[1;33m,\u001b[0m \u001b[0mpkg_file\u001b[0m\u001b[1;33m)\u001b[0m\u001b[1;33m:\u001b[0m\u001b[1;33m\u001b[0m\u001b[1;33m\u001b[0m\u001b[0m\n\u001b[0;32m    140\u001b[0m         \u001b[0msuper\u001b[0m\u001b[1;33m(\u001b[0m\u001b[0m_ZipPkgWriter\u001b[0m\u001b[1;33m,\u001b[0m \u001b[0mself\u001b[0m\u001b[1;33m)\u001b[0m\u001b[1;33m.\u001b[0m\u001b[0m__init__\u001b[0m\u001b[1;33m(\u001b[0m\u001b[1;33m)\u001b[0m\u001b[1;33m\u001b[0m\u001b[1;33m\u001b[0m\u001b[0m\n\u001b[1;32m--> 141\u001b[1;33m         \u001b[0mself\u001b[0m\u001b[1;33m.\u001b[0m\u001b[0m_zipf\u001b[0m \u001b[1;33m=\u001b[0m \u001b[0mZipFile\u001b[0m\u001b[1;33m(\u001b[0m\u001b[0mpkg_file\u001b[0m\u001b[1;33m,\u001b[0m \u001b[1;34m'w'\u001b[0m\u001b[1;33m,\u001b[0m \u001b[0mcompression\u001b[0m\u001b[1;33m=\u001b[0m\u001b[0mZIP_DEFLATED\u001b[0m\u001b[1;33m)\u001b[0m\u001b[1;33m\u001b[0m\u001b[1;33m\u001b[0m\u001b[0m\n\u001b[0m\u001b[0;32m    142\u001b[0m \u001b[1;33m\u001b[0m\u001b[0m\n\u001b[0;32m    143\u001b[0m     \u001b[1;32mdef\u001b[0m \u001b[0mclose\u001b[0m\u001b[1;33m(\u001b[0m\u001b[0mself\u001b[0m\u001b[1;33m)\u001b[0m\u001b[1;33m:\u001b[0m\u001b[1;33m\u001b[0m\u001b[1;33m\u001b[0m\u001b[0m\n",
      "\u001b[1;32m~\\Anaconda3\\lib\\zipfile.py\u001b[0m in \u001b[0;36m__init__\u001b[1;34m(self, file, mode, compression, allowZip64, compresslevel, strict_timestamps)\u001b[0m\n\u001b[0;32m   1249\u001b[0m             \u001b[1;32mwhile\u001b[0m \u001b[1;32mTrue\u001b[0m\u001b[1;33m:\u001b[0m\u001b[1;33m\u001b[0m\u001b[1;33m\u001b[0m\u001b[0m\n\u001b[0;32m   1250\u001b[0m                 \u001b[1;32mtry\u001b[0m\u001b[1;33m:\u001b[0m\u001b[1;33m\u001b[0m\u001b[1;33m\u001b[0m\u001b[0m\n\u001b[1;32m-> 1251\u001b[1;33m                     \u001b[0mself\u001b[0m\u001b[1;33m.\u001b[0m\u001b[0mfp\u001b[0m \u001b[1;33m=\u001b[0m \u001b[0mio\u001b[0m\u001b[1;33m.\u001b[0m\u001b[0mopen\u001b[0m\u001b[1;33m(\u001b[0m\u001b[0mfile\u001b[0m\u001b[1;33m,\u001b[0m \u001b[0mfilemode\u001b[0m\u001b[1;33m)\u001b[0m\u001b[1;33m\u001b[0m\u001b[1;33m\u001b[0m\u001b[0m\n\u001b[0m\u001b[0;32m   1252\u001b[0m                 \u001b[1;32mexcept\u001b[0m \u001b[0mOSError\u001b[0m\u001b[1;33m:\u001b[0m\u001b[1;33m\u001b[0m\u001b[1;33m\u001b[0m\u001b[0m\n\u001b[0;32m   1253\u001b[0m                     \u001b[1;32mif\u001b[0m \u001b[0mfilemode\u001b[0m \u001b[1;32min\u001b[0m \u001b[0mmodeDict\u001b[0m\u001b[1;33m:\u001b[0m\u001b[1;33m\u001b[0m\u001b[1;33m\u001b[0m\u001b[0m\n",
      "\u001b[1;31mOSError\u001b[0m: [Errno 22] Invalid argument: 'C:\\\\Users\\\\Lucky Abolorunke\\\\Desktop\\\\handwriting\\\\* Virtues of the.docx'"
     ]
    }
   ],
   "source": [
    "for index in range(1,26):\n",
    "    directory = r\"C:\\Users\\Lucky Abolorunke\\Desktop\\handwriting\\photos\\{}.jpg\".format(index)\n",
    "    convertFile(directory)"
   ]
  },
  {
   "cell_type": "markdown",
   "metadata": {},
   "source": [
    "# "
   ]
  }
 ],
 "metadata": {
  "kernelspec": {
   "display_name": "Python 3",
   "language": "python",
   "name": "python3"
  },
  "language_info": {
   "codemirror_mode": {
    "name": "ipython",
    "version": 3
   },
   "file_extension": ".py",
   "mimetype": "text/x-python",
   "name": "python",
   "nbconvert_exporter": "python",
   "pygments_lexer": "ipython3",
   "version": "3.8.5"
  }
 },
 "nbformat": 4,
 "nbformat_minor": 4
}
